{
 "cells": [
  {
   "cell_type": "code",
   "execution_count": 1,
   "id": "ce012b60-1b55-40f4-a63e-b3387bb61e27",
   "metadata": {},
   "outputs": [],
   "source": [
    "#Data Science Tools and Ecosystem"
   ]
  },
  {
   "cell_type": "code",
   "execution_count": null,
   "id": "6e01273b-1576-4469-9a0a-bdf3c4de876a",
   "metadata": {},
   "outputs": [],
   "source": [
    "In this notebook, Data Science Tools and Ecosystem are summarized."
   ]
  },
  {
   "cell_type": "code",
   "execution_count": null,
   "id": "ecac4cc9-048e-47fa-9932-e585104f0a51",
   "metadata": {},
   "outputs": [],
   "source": [
    "Some of the popular languages that Data Scientists use are:\n",
    "1.Python\n",
    "2.SQL\n",
    "3.R"
   ]
  },
  {
   "cell_type": "code",
   "execution_count": null,
   "id": "e477f41b-a9ea-410b-a90b-572c826bdc46",
   "metadata": {},
   "outputs": [],
   "source": [
    "Some of the commonly used libraries used by Data Scientists include:\n",
    "1.Mathplotlib\n",
    "2.Numpy\n",
    "3.Pandas\n",
    "4.Scipy"
   ]
  },
  {
   "cell_type": "code",
   "execution_count": null,
   "id": "5f9e96b5-3dde-4d0b-a310-13e7b6f37f86",
   "metadata": {},
   "outputs": [],
   "source": [
    "Data Science Tools\n",
    "Jupyter Notebook\n",
    "RStudio\n",
    "Apache Zeppelin"
   ]
  },
  {
   "cell_type": "code",
   "execution_count": 9,
   "id": "62c92212-9ad8-4874-9e3e-f5c44b57130c",
   "metadata": {},
   "outputs": [],
   "source": [
    "###Below are a few examples of evaluating arithmetic expressions in Python"
   ]
  },
  {
   "cell_type": "code",
   "execution_count": 11,
   "id": "90754d13-30b3-4732-9e34-8cbad282687a",
   "metadata": {},
   "outputs": [
    {
     "data": {
      "text/plain": [
       "17"
      ]
     },
     "execution_count": 11,
     "metadata": {},
     "output_type": "execute_result"
    }
   ],
   "source": [
    "(3*4)+5\n",
    "#This a simple arithmetic expression to mutiply then add integers"
   ]
  },
  {
   "cell_type": "code",
   "execution_count": 13,
   "id": "493ba5cf-e8d7-431c-a734-eab2a51cffed",
   "metadata": {},
   "outputs": [],
   "source": [
    "hours = 200 / 60"
   ]
  },
  {
   "cell_type": "code",
   "execution_count": null,
   "id": "ee577ee5-d162-404c-a54f-4a1f1cfeb749",
   "metadata": {},
   "outputs": [],
   "source": [
    "**Objectives:**\n",
    "\n",
    "- List popular languages for Data Science.\n",
    "- Introduce common open-source tools for Data Science development.\n",
    "- Demonstrate inserting and formatting markdown cells in Jupyter Notebook.\n"
   ]
  },
  {
   "cell_type": "code",
   "execution_count": null,
   "id": "70afc693-1b8b-42ea-9951-7a246ccc1c38",
   "metadata": {},
   "outputs": [],
   "source": [
    "## Author\n",
    "\n",
    "T Abdul Siman\n"
   ]
  }
 ],
 "metadata": {
  "kernelspec": {
   "display_name": "Python 3 (ipykernel)",
   "language": "python",
   "name": "python3"
  },
  "language_info": {
   "codemirror_mode": {
    "name": "ipython",
    "version": 3
   },
   "file_extension": ".py",
   "mimetype": "text/x-python",
   "name": "python",
   "nbconvert_exporter": "python",
   "pygments_lexer": "ipython3",
   "version": "3.12.4"
  }
 },
 "nbformat": 4,
 "nbformat_minor": 5
}
